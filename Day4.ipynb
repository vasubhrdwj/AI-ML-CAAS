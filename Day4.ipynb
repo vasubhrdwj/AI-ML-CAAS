{
 "cells": [
  {
   "cell_type": "markdown",
   "id": "9c63c8d4",
   "metadata": {},
   "source": [
    " ##### Q1 -> Explore split, strip, replace, center, title methods of string data type in python "
   ]
  },
  {
   "cell_type": "code",
   "execution_count": 17,
   "id": "90b24948",
   "metadata": {},
   "outputs": [
    {
     "name": "stdout",
     "output_type": "stream",
     "text": [
      "    This is a statmenet    \n",
      "Split:- ['This', 'is', 'a', 'statmenet']\n",
      "Strip:- This is a statmenet\n",
      "Split:-     Thare are a statmenet    \n",
      "Center:-                This is a statmenet                \n",
      "Title:-     This Is A Statmenet    \n"
     ]
    }
   ],
   "source": [
    "string = \"    This is a statmenet    \"\n",
    "print(string)\n",
    "\n",
    "string1 = string.split()\n",
    "print(\"Split:-\",string1)\n",
    "\n",
    "string2 = string.strip()\n",
    "print(\"Strip:-\",string2)\n",
    "\n",
    "string3 = string.replace(\"is\",\"are\")\n",
    "print(\"Split:-\",string3)\n",
    "\n",
    "string4 = string.center(50)\n",
    "print(\"Center:-\",string4)\n",
    "\n",
    "string5 = string.title()\n",
    "print(\"Title:-\",string5)"
   ]
  },
  {
   "cell_type": "markdown",
   "id": "5245bf9d",
   "metadata": {},
   "source": [
    " ##### Q2 -> Explore append, pop, remove, sort methods of list data type "
   ]
  },
  {
   "cell_type": "code",
   "execution_count": 40,
   "id": "96489be4",
   "metadata": {},
   "outputs": [
    {
     "name": "stdout",
     "output_type": "stream",
     "text": [
      "['Phantom', '911', 'DB11', 'Vantage']\n",
      "append:  ['Phantom', '911', 'DB11', 'Vantage', 'mclaren']\n",
      "pop:  ['Phantom', '911', 'DB11', 'Vantage']\n",
      "remove(Vantage):  ['Phantom', '911', 'DB11']\n",
      "sort:  ['911', 'DB11', 'Phantom']\n"
     ]
    }
   ],
   "source": [
    "cars = ['Phantom','911','DB11','Vantage']\n",
    "print(cars)   \n",
    "cars.append('mclaren')\n",
    "print(\"append: \",cars)\n",
    "cars.pop()\n",
    "print(\"pop: \",cars)\n",
    "cars.remove(\"Vantage\")\n",
    "print(\"remove(Vantage): \",cars)\n",
    "cars.sort()\n",
    "print(\"sort: \",cars)"
   ]
  },
  {
   "cell_type": "markdown",
   "id": "954ee3c6",
   "metadata": {},
   "source": [
    " ##### Q3 -> Create 5 real time lists to store some useful information in python"
   ]
  },
  {
   "cell_type": "code",
   "execution_count": 44,
   "id": "552197cf",
   "metadata": {},
   "outputs": [
    {
     "name": "stdout",
     "output_type": "stream",
     "text": [
      "['C++', 'Ruby', 'NodeJS', 'Solidity', 'Python']\n",
      "['Phantom', '911', 'DB11', 'Vantage', 'Maserati', 'pagani', 'porshe', 'Koenigsegg']\n"
     ]
    }
   ],
   "source": [
    "cars = ['Phantom','911','DB11','Vantage']\n",
    "language = ['C++','Ruby','NodeJS','Solidity','Python']\n",
    "weather = ['sunny','rainy','cloudy','breeze']\n",
    "brand= ['Maserati','pagani','porshe','Koenigsegg']\n",
    "\n",
    "print(language)\n",
    "cars.extend(brand)\n",
    "print(cars)\n"
   ]
  },
  {
   "cell_type": "markdown",
   "id": "b8105000",
   "metadata": {},
   "source": [
    " ##### Q5 -> What are identifiers, list rules of identifiers in python\n",
    " \n",
    "    Identifiers in Python are names used to identify variables, functions, classes, modules, or any other user-defined objects. They are used to give a unique name to these entities, making it easier to refer to them in the code.\n",
    "\n",
    "Here are the rules for defining identifiers in Python.\n",
    "<ul>\n",
    "<li>Valid Characters</li>\n",
    "<li>Case-Sensitivity</li>\n",
    "<li>Reserved Words</li>\n",
    "<li>Length Limit</li>\n",
    "<li>Naming Convention</li>\n",
    "</ul>    "
   ]
  }
 ],
 "metadata": {
  "kernelspec": {
   "display_name": "Python 3 (ipykernel)",
   "language": "python",
   "name": "python3"
  },
  "language_info": {
   "codemirror_mode": {
    "name": "ipython",
    "version": 3
   },
   "file_extension": ".py",
   "mimetype": "text/x-python",
   "name": "python",
   "nbconvert_exporter": "python",
   "pygments_lexer": "ipython3",
   "version": "3.10.9"
  }
 },
 "nbformat": 4,
 "nbformat_minor": 5
}
