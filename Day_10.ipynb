{
 "cells": [
  {
   "cell_type": "markdown",
   "id": "8a9e2b28",
   "metadata": {},
   "source": [
    "### Python Program to Check Palindrome Number "
   ]
  },
  {
   "cell_type": "code",
   "execution_count": 5,
   "id": "a6adfe44",
   "metadata": {},
   "outputs": [
    {
     "name": "stdout",
     "output_type": "stream",
     "text": [
      "Enter a number: 12321\n",
      "12321\n",
      "It is a palindrome\n"
     ]
    }
   ],
   "source": [
    "num = int(input(\"Enter a number: \"))\n",
    "temp = num\n",
    "rev = 0\n",
    "while (num>0):\n",
    "    rev = (10*rev) + (num%10)\n",
    "    num = num//10\n",
    "print(rev)    \n",
    "if(temp == rev): print(\"It is a palindrome\") \n",
    "else: print(\"It is not a palindrome\")    \n",
    "    "
   ]
  },
  {
   "cell_type": "markdown",
   "id": "3020dfe0",
   "metadata": {},
   "source": [
    "### Python Program to Print all multiples of 3 and 5 in an Interval "
   ]
  },
  {
   "cell_type": "code",
   "execution_count": 8,
   "id": "f2196f6e",
   "metadata": {},
   "outputs": [
    {
     "name": "stdout",
     "output_type": "stream",
     "text": [
      "Enter the starting: 1\n",
      "Enter the ending: 100\n",
      "15\n",
      "30\n",
      "45\n",
      "60\n",
      "75\n",
      "90\n"
     ]
    }
   ],
   "source": [
    "st = int(input(\"Enter the starting: \"))\n",
    "end = int(input(\"Enter the ending: \"))\n",
    "for i in range(st,end): \n",
    "    if(i%5==0 and i%3==0):\n",
    "        print(i);"
   ]
  },
  {
   "cell_type": "markdown",
   "id": "42626ba0",
   "metadata": {},
   "source": [
    "### Python Program to Find the Factorial of a Number "
   ]
  },
  {
   "cell_type": "code",
   "execution_count": 11,
   "id": "35722bb8",
   "metadata": {},
   "outputs": [
    {
     "name": "stdout",
     "output_type": "stream",
     "text": [
      "Enter a number: 10\n",
      "3628800\n"
     ]
    }
   ],
   "source": [
    "num = int(input(\"Enter a number: \"))\n",
    "fact =1\n",
    "while num>0:\n",
    "    fact = fact*num\n",
    "    num -= 1\n",
    "print(fact)    "
   ]
  },
  {
   "cell_type": "markdown",
   "id": "8acbc3f9",
   "metadata": {},
   "source": [
    "### Python Program to Print the Fibonacci sequence "
   ]
  },
  {
   "cell_type": "code",
   "execution_count": 18,
   "id": "d67e78ab",
   "metadata": {},
   "outputs": [
    {
     "name": "stdout",
     "output_type": "stream",
     "text": [
      "Enter a number: 20\n",
      "[0, 1, 1, 2, 3, 5, 8, 13, 21, 34, 55, 89, 144, 233, 377, 610, 987, 1597, 2584, 4181]\n"
     ]
    }
   ],
   "source": [
    "num = int(input(\"Enter a number: \"))\n",
    "list =[0,1]\n",
    "for i in range(2,num): \n",
    "    list.append(list[i-1]+list[i-2])\n",
    "print(list)    "
   ]
  },
  {
   "cell_type": "markdown",
   "id": "943d0202",
   "metadata": {},
   "source": [
    "### Python Program to Check Armstrong Number "
   ]
  },
  {
   "cell_type": "code",
   "execution_count": 22,
   "id": "d5c9ab59",
   "metadata": {},
   "outputs": [
    {
     "name": "stdout",
     "output_type": "stream",
     "text": [
      "Enter a number: 153\n",
      "Armstrong Number\n"
     ]
    }
   ],
   "source": [
    "num = int(input(\"Enter a number: \"))\n",
    "sum=0\n",
    "temp=num\n",
    "while num>0 : \n",
    "    sum += (num%10)**3\n",
    "    num//=10\n",
    "if(sum == temp):print(\"Armstrong Number\") \n",
    "else: print(\"Not an Armstrong Number\")    \n",
    "    "
   ]
  }
 ],
 "metadata": {
  "kernelspec": {
   "display_name": "Python 3 (ipykernel)",
   "language": "python",
   "name": "python3"
  },
  "language_info": {
   "codemirror_mode": {
    "name": "ipython",
    "version": 3
   },
   "file_extension": ".py",
   "mimetype": "text/x-python",
   "name": "python",
   "nbconvert_exporter": "python",
   "pygments_lexer": "ipython3",
   "version": "3.10.9"
  }
 },
 "nbformat": 4,
 "nbformat_minor": 5
}
