{
 "cells": [
  {
   "cell_type": "markdown",
   "id": "997f2df5",
   "metadata": {},
   "source": [
    "### 1->What are the two values of the Boolean data type? How do you write them?\n",
    "\n",
    "The two values of the Boolean data type are:\n",
    "\n",
    "True: Represents a true or logical \"yes\" value.\n",
    "\n",
    "False: Represents a false or logical \"no\" value.\n",
    "\n",
    "In Python, you write these Boolean values as True and False."
   ]
  },
  {
   "cell_type": "markdown",
   "id": "f4398447",
   "metadata": {},
   "source": [
    "### 2-> What are the three Boolean operators?\n",
    "\n",
    "The three Boolean operators in Python are:\n",
    "\n",
    "1. and operator\n",
    "\n",
    "2. or operator\n",
    "\n",
    "3. not operator"
   ]
  },
  {
   "cell_type": "markdown",
   "id": "1be7e74e",
   "metadata": {},
   "source": [
    "### 3-> Write out the truth tables of each Boolean operator (that is, every possible combination of Boolean values for the operator and what they evaluate to).\n",
    "\n",
    "###### and operator:\n",
    "\n",
    "The and operator returns True if both operands are true. Otherwise, it returns False.\n",
    "It performs a logical AND operation on the operands.\n",
    "\n",
    "##### or operator:\n",
    "The or operator returns True if at least one of the operands is true. If both operands are false, it returns False.\n",
    "It performs a logical OR operation on the operands.\n",
    "not operator:\n",
    "\n",
    "##### The not operator returns the opposite of the operand. \n",
    "If the operand is True, it returns False, and if the operand is False, it returns True.\n",
    "It performs a logical NOT operation on the operand."
   ]
  },
  {
   "cell_type": "markdown",
   "id": "6153396e",
   "metadata": {},
   "source": [
    "### 4-> What do the following expressions evaluate to?"
   ]
  },
  {
   "cell_type": "code",
   "execution_count": 2,
   "id": "93e2b6aa",
   "metadata": {},
   "outputs": [
    {
     "name": "stdout",
     "output_type": "stream",
     "text": [
      "False\n",
      "False\n",
      "True\n",
      "False\n",
      "False\n",
      "True\n"
     ]
    }
   ],
   "source": [
    "print((5 > 4) and (3 == 5) )\n",
    "\n",
    "print(not (5 > 4) )\n",
    "\n",
    "print((5 > 4) or (3 == 5)) \n",
    "\n",
    "print(not ((5 > 4) or (3 == 5)))\n",
    "\n",
    "print((True and True) and (True == False))\n",
    "\n",
    "print((not False) or (not True))"
   ]
  },
  {
   "cell_type": "markdown",
   "id": "b5227973",
   "metadata": {},
   "source": [
    "### 5-> What are the six comparison operators?\n",
    "\n",
    "Equal to (==):\n",
    "\n",
    "Not equal to (!=):\n",
    "\n",
    "Greater than (>):\n",
    "\n",
    "Less than (<):\n",
    "\n",
    "Greater than or equal to (>=):\n",
    "\n",
    "Less than or equal to (<=):"
   ]
  },
  {
   "cell_type": "markdown",
   "id": "586d9689",
   "metadata": {},
   "source": [
    "### 6-> What is the difference between the equal to operator and the assignment operator?\n",
    "\n",
    "Equal to Operator (==):\n",
    "\n",
    "The equal to operator is a comparison operator used to check if two values are equal.\n",
    "It compares the values on the left and right sides of the operator and returns True if they are equal, and False otherwise.\n",
    "Example: 2 == 2 evaluates to True, indicating that the values on both sides of the operator are equal.\n",
    "Assignment Operator (=):\n",
    "\n",
    "The assignment operator is used to assign a value to a variable.\n",
    "It assigns the value on the right side of the operator to the variable on the left side.\n",
    "Example: x = 5 assigns the value 5 to the variable x.\n",
    "Q7) Explain what a condition is and where you would use one.\n",
    "\n",
    "A condition is an expression or statement that evaluates to either true or false. It is used to control the flow of a program based on certain criteria or requirements. A condition determines whether a specific block of code should be executed or not, allowing the program to make decisions dynamically during runtime."
   ]
  }
 ],
 "metadata": {
  "kernelspec": {
   "display_name": "Python 3 (ipykernel)",
   "language": "python",
   "name": "python3"
  },
  "language_info": {
   "codemirror_mode": {
    "name": "ipython",
    "version": 3
   },
   "file_extension": ".py",
   "mimetype": "text/x-python",
   "name": "python",
   "nbconvert_exporter": "python",
   "pygments_lexer": "ipython3",
   "version": "3.10.9"
  }
 },
 "nbformat": 4,
 "nbformat_minor": 5
}
