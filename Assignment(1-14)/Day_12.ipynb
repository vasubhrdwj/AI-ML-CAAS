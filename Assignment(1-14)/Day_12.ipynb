{
 "cells": [
  {
   "cell_type": "code",
   "execution_count": 6,
   "id": "4db04532",
   "metadata": {},
   "outputs": [
    {
     "name": "stdout",
     "output_type": "stream",
     "text": [
      "enter a number: 12\n",
      "Think of a higher number\n",
      "enter a number: 12\n",
      "Think of a higher number\n",
      "enter a number: 33\n",
      "Think of a lower number\n",
      "enter a number: 4\n",
      "Think of a higher number\n",
      "enter a number: 44\n",
      "Think of a lower number\n",
      "You Lose\n"
     ]
    }
   ],
   "source": [
    "winNo = 32\n",
    "flag = 0\n",
    "\n",
    "for i in range(5):\n",
    "    num = int(input(\"enter a number: \"))\n",
    "    if(num>winNo): \n",
    "        print(\"Think of a lower number\")\n",
    "        continue\n",
    "    if(num<winNo):\n",
    "        print(\"Think of a higher number\")\n",
    "        continue\n",
    "    else: \n",
    "        flag = 1\n",
    "        print(\"You win\")\n",
    "        break\n",
    "        \n",
    "        \n",
    "if flag == 0:\n",
    "    print(\"You Lose\")    "
   ]
  },
  {
   "cell_type": "markdown",
   "id": "b0033ddf",
   "metadata": {},
   "source": [
    "### Bubble sort:"
   ]
  },
  {
   "cell_type": "code",
   "execution_count": 8,
   "id": "b96305b7",
   "metadata": {},
   "outputs": [
    {
     "name": "stdout",
     "output_type": "stream",
     "text": [
      "[2, 3, 4, 11, 12, 14, 31]\n"
     ]
    }
   ],
   "source": [
    "list = [2,3,14,4,31,11,12]\n",
    "n = len(list)\n",
    "for i in range(n):\n",
    "    swapped = False\n",
    "    for j in range(n-i-1):\n",
    "        if(list[j]>list[j+1]):\n",
    "            temp = list[j]\n",
    "            list[j] = list[j+1]\n",
    "            list[j+1] = temp\n",
    "            swapped = True\n",
    "    if (swapped==False):\n",
    "         break\n",
    "print(list)            "
   ]
  },
  {
   "cell_type": "markdown",
   "id": "534dba53",
   "metadata": {},
   "source": [
    "### Selection Sort:"
   ]
  },
  {
   "cell_type": "code",
   "execution_count": 11,
   "id": "4a5151a2",
   "metadata": {},
   "outputs": [
    {
     "name": "stdout",
     "output_type": "stream",
     "text": [
      "[2, 3, 4, 11, 12, 14, 31]\n"
     ]
    }
   ],
   "source": [
    "\n",
    "\n",
    "list = [2,3,14,4,31,11,12]\n",
    "for i in range(len(list)-1):\n",
    "    for j in range(i+1,len(list)):\n",
    "        if(list[j] < list[i]):\n",
    "            temp = list[j]\n",
    "            list[j] = list[i]\n",
    "            list[i] = temp\n",
    "            \n",
    "            \n",
    "print(list)            "
   ]
  },
  {
   "cell_type": "markdown",
   "id": "403f3acd",
   "metadata": {},
   "source": [
    "### Insertion Sort\n"
   ]
  },
  {
   "cell_type": "code",
   "execution_count": 9,
   "id": "fb64ace9",
   "metadata": {},
   "outputs": [
    {
     "name": "stdout",
     "output_type": "stream",
     "text": [
      "[2, 3, 4, 11, 12, 14, 31]\n"
     ]
    }
   ],
   "source": [
    "list = [2,3,14,4,31,11,12]\n",
    "n = len(list)\n",
    "for i in range(1,n):\n",
    "    key = list[i]\n",
    "    j = i-1\n",
    "    while j>=0 and list[j]>key:\n",
    "        list[j+1] = list[j]\n",
    "        j -= 1\n",
    "    list[j+1] = key\n",
    "print(list)    \n",
    "    "
   ]
  }
 ],
 "metadata": {
  "kernelspec": {
   "display_name": "Python 3 (ipykernel)",
   "language": "python",
   "name": "python3"
  },
  "language_info": {
   "codemirror_mode": {
    "name": "ipython",
    "version": 3
   },
   "file_extension": ".py",
   "mimetype": "text/x-python",
   "name": "python",
   "nbconvert_exporter": "python",
   "pygments_lexer": "ipython3",
   "version": "3.10.9"
  }
 },
 "nbformat": 4,
 "nbformat_minor": 5
}
