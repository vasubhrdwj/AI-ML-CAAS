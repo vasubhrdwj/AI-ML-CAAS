{
 "cells": [
  {
   "cell_type": "markdown",
   "id": "c1ade469",
   "metadata": {},
   "source": [
    "### Program to find the sum of digits of a number until the sum is reduced to 1 digit "
   ]
  },
  {
   "cell_type": "code",
   "execution_count": 8,
   "id": "8471cb43",
   "metadata": {},
   "outputs": [
    {
     "name": "stdout",
     "output_type": "stream",
     "text": [
      "Enter a number: 299\n",
      "2\n"
     ]
    }
   ],
   "source": [
    "sum = 0\n",
    "num = int(input(\"Enter a number: \"))\n",
    "\n",
    "while num>0 or sum>9:\n",
    "    if(num == 0):\n",
    "        num = sum\n",
    "        sum = 0\n",
    "    rem = num%10\n",
    "    num //= 10\n",
    "    sum += rem\n",
    "    \n",
    "print(sum)    "
   ]
  },
  {
   "cell_type": "markdown",
   "id": "a363abec",
   "metadata": {},
   "source": [
    "### Program to find LCM and HCF of two numbers "
   ]
  },
  {
   "cell_type": "code",
   "execution_count": 13,
   "id": "4439a5bc",
   "metadata": {},
   "outputs": [
    {
     "name": "stdout",
     "output_type": "stream",
     "text": [
      "Enter a number: 12\n",
      "Enter another number: 3\n",
      "LCM:  12\n",
      "GCD: 3\n"
     ]
    }
   ],
   "source": [
    "import math\n",
    "a = int(input(\"Enter a number: \"))\n",
    "b = int(input(\"Enter another number: \"))\n",
    "if(num1>num2):\n",
    "    greater = a\n",
    "else:\n",
    "    greater = b\n",
    "while(True):\n",
    "    if(greater%a==0) and (greater%b==0):\n",
    "        lcm = greater\n",
    "        break\n",
    "    else:\n",
    "        greater+=1\n",
    "print(\"LCM: \",lcm)  \n",
    "print(\"GCD:\",math.gcd(a,b))"
   ]
  },
  {
   "cell_type": "markdown",
   "id": "5edf1995",
   "metadata": {},
   "source": [
    "### Write a program to accept any number n and print the cube of all numbers from 1 to n which are divisible by 3. Rewrite the program using a continue statement. "
   ]
  },
  {
   "cell_type": "code",
   "execution_count": 15,
   "id": "74d48a53",
   "metadata": {},
   "outputs": [
    {
     "name": "stdout",
     "output_type": "stream",
     "text": [
      "Enter a number: 10\n",
      "[0, 27, 216, 729]\n"
     ]
    }
   ],
   "source": [
    "num =int(input(\"Enter a number: \"))\n",
    "list = []\n",
    "for i in range(num):\n",
    "    if i**3 % 3!=0:\n",
    "        continue\n",
    "    else: list.append(i**3)\n",
    "print(list)"
   ]
  },
  {
   "cell_type": "markdown",
   "id": "7c06dc9d",
   "metadata": {},
   "source": [
    "## Write a program to input a number and count the digits in it. Use while loop and the program should work correctly for 0 also "
   ]
  },
  {
   "cell_type": "code",
   "execution_count": 18,
   "id": "a4cbc9af",
   "metadata": {},
   "outputs": [
    {
     "name": "stdout",
     "output_type": "stream",
     "text": [
      "Enter a number: 12345678\n",
      "count =  8\n"
     ]
    }
   ],
   "source": [
    "num = int(input(\"Enter a number: \"))\n",
    "count=0\n",
    "if num==0:\n",
    "    count=0\n",
    "else:\n",
    "    while num>0:\n",
    "        num //= 10\n",
    "        count+= 1\n",
    "print(\"count = \",count)        \n",
    "    "
   ]
  },
  {
   "cell_type": "markdown",
   "id": "1fa277e9",
   "metadata": {},
   "source": [
    "### Write a program to enter a number and find the reverse of that number. Also display the double of the reverse number. (don’t use string magic) "
   ]
  },
  {
   "cell_type": "code",
   "execution_count": 20,
   "id": "052f79da",
   "metadata": {},
   "outputs": [
    {
     "name": "stdout",
     "output_type": "stream",
     "text": [
      "Enter a number: 1234\n",
      "Number: 1234\n",
      "Reverse:  4321\n",
      "Reverse Double:  8642\n"
     ]
    }
   ],
   "source": [
    "num = int(input(\"Enter a number: \"))\n",
    "print(\"Number:\", num)\n",
    "rev =0\n",
    "while num>0: \n",
    "    rev = rev*10 + num%10\n",
    "    num //= 10\n",
    "print(\"Reverse: \",rev)\n",
    "print(\"Reverse Double: \",rev*2)\n"
   ]
  }
 ],
 "metadata": {
  "kernelspec": {
   "display_name": "Python 3 (ipykernel)",
   "language": "python",
   "name": "python3"
  },
  "language_info": {
   "codemirror_mode": {
    "name": "ipython",
    "version": 3
   },
   "file_extension": ".py",
   "mimetype": "text/x-python",
   "name": "python",
   "nbconvert_exporter": "python",
   "pygments_lexer": "ipython3",
   "version": "3.10.9"
  }
 },
 "nbformat": 4,
 "nbformat_minor": 5
}
