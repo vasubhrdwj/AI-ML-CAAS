{
 "cells": [
  {
   "cell_type": "markdown",
   "id": "3d5ed9a6",
   "metadata": {},
   "source": [
    "### 1-> Write a Python program to check whether a number is negative, positive or zero. "
   ]
  },
  {
   "cell_type": "code",
   "execution_count": 4,
   "id": "af420342",
   "metadata": {},
   "outputs": [
    {
     "name": "stdout",
     "output_type": "stream",
     "text": [
      "Enter number: -13\n",
      "Negative Num\n"
     ]
    }
   ],
   "source": [
    "num = int(input(\"Enter number: \"))\n",
    "if(num > 0): print(\"Positive Num\")\n",
    "elif(num == 0): print(\"Zero\")\n",
    "else: print(\"Negative Num\")"
   ]
  },
  {
   "cell_type": "markdown",
   "id": "815bbe09",
   "metadata": {},
   "source": [
    "### 3-> Write a Python program to check whether a number is divisible by 5 and 11 or not. "
   ]
  },
  {
   "cell_type": "code",
   "execution_count": 5,
   "id": "a152b32e",
   "metadata": {},
   "outputs": [
    {
     "name": "stdout",
     "output_type": "stream",
     "text": [
      "Enter number: 110\n",
      "Divisible\n"
     ]
    }
   ],
   "source": [
    "num = int(input(\"Enter number: \"))\n",
    "if(num%5==0 and num%11==0): print(\"Divisible\")\n",
    "else: print(\"Not Divisible\")    "
   ]
  },
  {
   "cell_type": "markdown",
   "id": "5be63264",
   "metadata": {},
   "source": [
    "### 4-> Write a Python program to check whether a year is leap year or not. "
   ]
  },
  {
   "cell_type": "code",
   "execution_count": 13,
   "id": "fe79511a",
   "metadata": {},
   "outputs": [
    {
     "name": "stdout",
     "output_type": "stream",
     "text": [
      "Enter number: 2012\n",
      "Leap year\n"
     ]
    }
   ],
   "source": [
    "year = int(input(\"Enter year: \"))\n",
    "if(year%400==0 and year%100==0):print(\"Leap year\")\n",
    "elif(year%4==0 and year%100!=0):print(\"Leap year\")\n",
    "else: print(\"Not Leap Year \")    "
   ]
  },
  {
   "cell_type": "markdown",
   "id": "a916cf5b",
   "metadata": {},
   "source": [
    "### 5-> Write a Python program to check whether a character is alphabet or not. "
   ]
  },
  {
   "cell_type": "code",
   "execution_count": 25,
   "id": "c3b1bd99",
   "metadata": {},
   "outputs": [
    {
     "name": "stdout",
     "output_type": "stream",
     "text": [
      "Enter character: d\n",
      "Alphabet\n"
     ]
    }
   ],
   "source": [
    "c = input(\"Enter character: \")\n",
    "if c>='a' and c<='z' : print(\"Alphabet\")\n",
    "elif c>='A' and c<='Z' : print(\"Alphabet\")    \n",
    "else: print(\"Not an Alphabet\")    "
   ]
  },
  {
   "cell_type": "markdown",
   "id": "e282a77e",
   "metadata": {},
   "source": [
    "### 6-> Write a Python program to input any alphabet and check whether it is vowel or consonant. "
   ]
  },
  {
   "cell_type": "code",
   "execution_count": 30,
   "id": "cbae8b36",
   "metadata": {},
   "outputs": [
    {
     "name": "stdout",
     "output_type": "stream",
     "text": [
      "Enter character: E\n",
      "Vowel\n"
     ]
    }
   ],
   "source": [
    "c = input(\"Enter character: \")\n",
    "if c=='a' or c=='e' or c=='i' or c=='o' or c=='u': print(\"Vowel\")\n",
    "if c=='A' or c=='E' or c=='I' or c=='O' or c=='U': print(\"Vowel\")   \n",
    "else: print(\"Consonant\")   "
   ]
  },
  {
   "cell_type": "markdown",
   "id": "2738e4c0",
   "metadata": {},
   "source": [
    "### 7-> Write a Python program to input any character and check whether it is alphabet, digit or special character. "
   ]
  },
  {
   "cell_type": "code",
   "execution_count": 5,
   "id": "350be387",
   "metadata": {},
   "outputs": [
    {
     "name": "stdout",
     "output_type": "stream",
     "text": [
      "Enter character: 2\n",
      "Digits\n"
     ]
    }
   ],
   "source": [
    "c = input(\"Enter character: \")\n",
    "if(len(c)>1): print(\"Invalid Length\")\n",
    "elif c>='a' and c<='z' : print(\"Alphabet\")\n",
    "elif c>='A' and c<='Z' : print(\"Alphabet\")  \n",
    "elif c>='0' and c<='9': print(\"Digits\")\n",
    "else: print(\"Special Character\")    "
   ]
  },
  {
   "cell_type": "markdown",
   "id": "237641d9",
   "metadata": {},
   "source": [
    "### 8-> Write a Python program to check whether a character is uppercase or lowercase alphabet. "
   ]
  },
  {
   "cell_type": "code",
   "execution_count": 10,
   "id": "5b1277ad",
   "metadata": {},
   "outputs": [
    {
     "name": "stdout",
     "output_type": "stream",
     "text": [
      "Enter character: S\n",
      "UpperCase\n"
     ]
    }
   ],
   "source": [
    "c = input(\"Enter character: \")\n",
    "if(c.isupper()): print(\"UpperCase\")\n",
    "elif(c.islower()): print(\"LowerCase\")\n",
    "else: print(\"Not a char\")    \n",
    "    "
   ]
  },
  {
   "cell_type": "markdown",
   "id": "3769af9b",
   "metadata": {},
   "source": [
    "### Write a Python program to input week number and print weekday. "
   ]
  },
  {
   "cell_type": "code",
   "execution_count": 3,
   "id": "c0e22165",
   "metadata": {},
   "outputs": [
    {
     "name": "stdout",
     "output_type": "stream",
     "text": [
      "Enter week number: 4\n",
      "Thursday\n"
     ]
    }
   ],
   "source": [
    "week = {\n",
    "    1 : 'Monday',\n",
    "    2 : 'Tuesday',\n",
    "    3 : 'Wednesday',\n",
    "    4 : 'Thursday',\n",
    "    5 : 'Friday',\n",
    "    6 : 'Saturday',\n",
    "    7 : 'Sunday',\n",
    "}\n",
    "key = int(input(\"Enter week number: \"))\n",
    "print(week[key])"
   ]
  },
  {
   "cell_type": "markdown",
   "id": "76dec86f",
   "metadata": {},
   "source": [
    "### Write a Python program to input angles of a triangle and check whether triangle is valid or not. "
   ]
  },
  {
   "cell_type": "code",
   "execution_count": 4,
   "id": "94432e7c",
   "metadata": {},
   "outputs": [
    {
     "name": "stdout",
     "output_type": "stream",
     "text": [
      "Enter angle 1 (in degrees): 90\n",
      "Enter angle 2 (in degrees): 60\n",
      "Enter angle  (in degrees): 30\n",
      "Valid Triangle.\n"
     ]
    }
   ],
   "source": [
    "a1 = int(input(\"Enter angle 1 (in degrees): \"))\n",
    "a2 = int(input(\"Enter angle 2 (in degrees): \"))\n",
    "a3 = int(input(\"Enter angle  (in degrees): \"))\n",
    "if a1+a2+a3 == 180 :print(\"Valid Triangle.\")\n",
    "else: print(\"Invalid Triangle\")    "
   ]
  },
  {
   "cell_type": "markdown",
   "id": "5e1a6e8b",
   "metadata": {},
   "source": [
    "### Write a Python program to input marks of five subjects Physics, Chemistry, Biology, Mathematics and Computer. Calculate percentage and grade according to following:  \n",
    "\n",
    "                   Percentage >= 90% : Grade A \n",
    "\n",
    "                   Percentage >= 80% : Grade B  \n",
    "\n",
    "                   Percentage >= 70% : Grade C  \n",
    "\n",
    "                   Percentage >= 60% : Grade D  \n",
    "\n",
    "                   Percentage >= 40% : Grade E \n",
    "\n",
    "                   Percentage < 40% : Grade F "
   ]
  },
  {
   "cell_type": "code",
   "execution_count": 6,
   "id": "e7ac884b",
   "metadata": {},
   "outputs": [
    {
     "name": "stdout",
     "output_type": "stream",
     "text": [
      "Enter marks 1: 90\n",
      "Enter marks 2: 70\n",
      "Enter marks 3: 100\n",
      "Enter marks 4: 100\n",
      "Enter marks 5: 40\n",
      "Grade A\n"
     ]
    }
   ],
   "source": [
    "mark1 = int(input(\"Enter marks 1: \"))\n",
    "mark2 = int(input(\"Enter marks 2: \"))\n",
    "mark3 = int(input(\"Enter marks 3: \"))\n",
    "mark4 = int(input(\"Enter marks 4: \"))\n",
    "mark5 = int(input(\"Enter marks 5: \"))\n",
    "total = mark1 + mark2 + mark3 + mark4 + mark5\n",
    "if(total >= 90): print(\"Grade A\")\n",
    "elif(total >= 80): print(\"Grade B\")    \n",
    "elif(total >= 70): print(\"Grade C\")\n",
    "elif(total >= 60): print(\"Grade D\")\n",
    "elif(total >= 40): print(\"Grade E\")\n",
    "else: print(\"Grade F\")    "
   ]
  },
  {
   "cell_type": "markdown",
   "id": "9e54e998",
   "metadata": {},
   "source": [
    "### Write a Python Program to input electricity unit charges and calculate total electricity bill according to the given condition:  \n",
    "\n",
    "For first 50 units Rs. 0.50/unit \n",
    "For next 100 units Rs. 0.75/unit \n",
    "For next 100 units Rs. 1.20/unit \n",
    "For unit above 250 Rs. 1.50/unit \n",
    "An additional surcharge of 20% is added to the bill "
   ]
  },
  {
   "cell_type": "code",
   "execution_count": 18,
   "id": "4316477f",
   "metadata": {},
   "outputs": [
    {
     "name": "stdout",
     "output_type": "stream",
     "text": [
      "Enter the number of units: 150\n",
      "100.0 Rs + 20% tax( 20.0 Rs) = 120.0 Rs\n"
     ]
    }
   ],
   "source": [
    "units = int(input(\"Enter the number of units: \"))\n",
    "price = 0;\n",
    "if units <= 50 : \n",
    "    price = units*0.5;\n",
    "    print(price,\"Rs + 20% tax(\",(0.2*price),\"Rs) =\",(1.2*price),\"Rs\")\n",
    "elif units <= 150:\n",
    "    price = (50*0.5) + (units-50)*0.75\n",
    "    print(price,\"Rs + 20% tax(\",(0.2*price),\"Rs) =\",(1.2*price),\"Rs\")\n",
    "elif units <= 250:\n",
    "    price = (50*0.5)+ (100*0.75) + ((units-150)*1.2)\n",
    "    print(price,\"Rs + 20% tax(\",(0.2*price),\"Rs) =\",(1.2*price),\"Rs\")\n",
    "else: \n",
    "    price = 220 + (1.5*(units-250))\n",
    "    print(price,\"Rs + 20% tax(\",(0.2*price),\"Rs) =\",(1.2*price),\"Rs\")\n",
    "    "
   ]
  }
 ],
 "metadata": {
  "kernelspec": {
   "display_name": "Python 3 (ipykernel)",
   "language": "python",
   "name": "python3"
  },
  "language_info": {
   "codemirror_mode": {
    "name": "ipython",
    "version": 3
   },
   "file_extension": ".py",
   "mimetype": "text/x-python",
   "name": "python",
   "nbconvert_exporter": "python",
   "pygments_lexer": "ipython3",
   "version": "3.10.9"
  }
 },
 "nbformat": 4,
 "nbformat_minor": 5
}
