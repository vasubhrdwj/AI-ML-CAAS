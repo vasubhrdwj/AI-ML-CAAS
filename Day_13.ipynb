{
 "cells": [
  {
   "cell_type": "markdown",
   "id": "42af050c",
   "metadata": {},
   "source": [
    "### Write a Python Code to count the Number of Each Vowel in a given string "
   ]
  },
  {
   "cell_type": "code",
   "execution_count": 21,
   "id": "6564e634",
   "metadata": {},
   "outputs": [
    {
     "name": "stdout",
     "output_type": "stream",
     "text": [
      "Enter a String: AabnmuU\n",
      "{\n",
      "  \"a\": 2,\n",
      "  \"e\": 0,\n",
      "  \"i\": 0,\n",
      "  \"o\": 0,\n",
      "  \"u\": 2\n",
      "}\n"
     ]
    }
   ],
   "source": [
    "import json\n",
    "\n",
    "string1 = input(\"Enter a String: \")\n",
    "string = string1.lower()\n",
    "vowels = {\n",
    "    'a': 0,\n",
    "    'e': 0,\n",
    "    'i': 0,\n",
    "    'o': 0,\n",
    "    'u': 0,\n",
    "}\n",
    "for i in range(len(string)):\n",
    "    key = string[i]\n",
    "    if key in vowels.keys():\n",
    "        vowels[key] += 1\n",
    "    \n",
    "print(json.dumps(vowels,sort_keys=True,indent=2))"
   ]
  },
  {
   "cell_type": "markdown",
   "id": "14f91a9a",
   "metadata": {},
   "source": [
    "### Write a Python Code to count number of words, characters and number of spaces in a given string "
   ]
  },
  {
   "cell_type": "code",
   "execution_count": 29,
   "id": "aa21270c",
   "metadata": {},
   "outputs": [
    {
     "name": "stdout",
     "output_type": "stream",
     "text": [
      "Enter a String: Hello World\n",
      "Length:  11\n",
      "Characters = 10\n",
      "Words = 2\n",
      "Spaces = 1\n"
     ]
    }
   ],
   "source": [
    "string = input(\"Enter a String: \")\n",
    "print(\"Length: \",len(string))\n",
    "char=0\n",
    "words=0\n",
    "spaces=0\n",
    "for i in range(len(string)):\n",
    "    if(string[i] == \" \"):\n",
    "        spaces += 1\n",
    "        words+=1\n",
    "        continue\n",
    "    else:\n",
    "        char+=1\n",
    "words+=1\n",
    "print(\"Characters =\",char)\n",
    "print(\"Words =\",words)\n",
    "print(\"Spaces =\",spaces)\n",
    "    "
   ]
  },
  {
   "cell_type": "markdown",
   "id": "9275f6ff",
   "metadata": {},
   "source": [
    "### Write a Python Program to take a mxn matrix input from user and stored in nested list "
   ]
  },
  {
   "cell_type": "code",
   "execution_count": 50,
   "id": "1407af38",
   "metadata": {},
   "outputs": [
    {
     "name": "stdout",
     "output_type": "stream",
     "text": [
      "Enter m: 2\n",
      "Enter n: 3\n",
      "1\n",
      "2\n",
      "3\n",
      "5\n",
      "6\n",
      "4\n",
      "[1, 2, 3]\n",
      "[5, 6, 4]\n"
     ]
    }
   ],
   "source": [
    "import json\n",
    "\n",
    "m = int(input(\"Enter m: \"))\n",
    "n = int(input(\"Enter n: \"))\n",
    "list = [[] for i in range(m)]\n",
    "for i in range(m):\n",
    "    for j in range(n):\n",
    "        elem = int(input())\n",
    "        list[i].append(elem)\n",
    "for i in range(m):\n",
    "    print(list[i])\n",
    "        "
   ]
  },
  {
   "cell_type": "markdown",
   "id": "50bb8027",
   "metadata": {},
   "source": [
    "### Write a Python Program to add, multiply and transpose two matrices given by user  "
   ]
  },
  {
   "cell_type": "code",
   "execution_count": 61,
   "id": "8005a0af",
   "metadata": {},
   "outputs": [
    {
     "name": "stdout",
     "output_type": "stream",
     "text": [
      "arr1[ 0 ][ 0 ]: 1\n",
      "arr1[ 0 ][ 1 ]: 2\n",
      "arr1[ 1 ][ 0 ]: 3\n",
      "arr1[ 1 ][ 1 ]: 4\n",
      "arr2[ 0 ][ 0 ]: 5\n",
      "arr2[ 0 ][ 1 ]: 6\n",
      "arr2[ 1 ][ 0 ]: 4\n",
      "arr2[ 1 ][ 1 ]: 32\n",
      "[6, 8]\n",
      "[7, 36]\n"
     ]
    }
   ],
   "source": [
    "#### print(\"Enter two 2x2 Matrices\")\n",
    "arr1 = [[] for i in range(2)]\n",
    "arr2 = [[] for i in range(2)]\n",
    "arr3 = [[] for i in range(2)]\n",
    "for i in range(2):\n",
    "    for j in range(2):\n",
    "        print(\"arr1[\",i,\"][\",j,\"]:\", end = \" \")\n",
    "        arr1[i].append(int(input()))\n",
    "for i in range(2):\n",
    "    for j in range(2):\n",
    "        print(\"arr2[\",i,\"][\",j,\"]:\", end = \" \")\n",
    "        arr2[i].append(int(input()))    \n",
    "for i in range(2):\n",
    "    for j in range(2):\n",
    "        arr3[i].append(arr1[i][j]+arr2[i][j])\n",
    "for i in range(2):\n",
    "    print(arr3[i])\n",
    "    \n",
    "        \n",
    "                \n",
    "       \n",
    "        "
   ]
  }
 ],
 "metadata": {
  "kernelspec": {
   "display_name": "Python 3 (ipykernel)",
   "language": "python",
   "name": "python3"
  },
  "language_info": {
   "codemirror_mode": {
    "name": "ipython",
    "version": 3
   },
   "file_extension": ".py",
   "mimetype": "text/x-python",
   "name": "python",
   "nbconvert_exporter": "python",
   "pygments_lexer": "ipython3",
   "version": "3.10.9"
  }
 },
 "nbformat": 4,
 "nbformat_minor": 5
}
