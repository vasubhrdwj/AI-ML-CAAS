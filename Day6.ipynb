{
 "cells": [
  {
   "cell_type": "markdown",
   "id": "8fac7104",
   "metadata": {},
   "source": [
    "#### 2-> Create at list 5 objects using list, dictionary, it will be good if you store realistic data "
   ]
  },
  {
   "cell_type": "code",
   "execution_count": 6,
   "id": "a9cac921",
   "metadata": {},
   "outputs": [
    {
     "name": "stdout",
     "output_type": "stream",
     "text": [
      "[[22, 14, 16], ['Joe', 'Sam', 'Abel'], [True, False, True]]\n",
      "\n",
      "\n",
      "************************************************************************************************\n",
      "India : Delhi\n",
      "India : Maharashtra\n",
      "India : Haryana\n",
      "India : Uttar Pradesh\n",
      "India : Himachal Pradesh\n",
      "--------------------\n",
      "\n",
      "\n",
      "Japan : Hokkaido\n",
      "Japan : Chubu\n",
      "Japan : Tohoku\n",
      "Japan : Shikoku\n",
      "--------------------\n",
      "\n",
      "\n",
      "United States : New York\n",
      "United States : Texas\n",
      "United States : Indiana\n",
      "United States : New Jersey\n",
      "United States : Hawaii\n",
      "United States : Alaska\n",
      "--------------------\n",
      "\n",
      "\n",
      "************************************************************************************************\n",
      "Original list : \n",
      " [{'car': 'BMW', 'bike': 'Honda'}, {'fruit': 'orange'}]\n",
      "List after appending : \n",
      " [{'car': 'BMW', 'bike': 'Honda'}, {'fruit': 'orange'}, {'language': 'Python', 'Framework': 'Django'}]\n"
     ]
    }
   ],
   "source": [
    "MyList = [[22, 14, 16], [\"Joe\", \"Sam\", \"Abel\"], [True, False, True]]\n",
    "\n",
    "print(MyList,end=\"\\n\\n\\n\")\n",
    "print(\"************************************************************************************************\")\n",
    "\n",
    "country = {\n",
    "    \"India\": [\"Delhi\", \"Maharashtra\", \"Haryana\",\n",
    "              \"Uttar Pradesh\", \"Himachal Pradesh\"],\n",
    "    \"Japan\": [\"Hokkaido\", \"Chubu\", \"Tohoku\", \"Shikoku\"],\n",
    "    \"United States\": [\"New York\", \"Texas\", \"Indiana\",\n",
    "                      \"New Jersey\", \"Hawaii\", \"Alaska\"]\n",
    "}\n",
    "for key, value in country.items():\n",
    "    for i in value:\n",
    "        print(\"{} : {}\".format(key, i))\n",
    "    print(\"--------------------\",end=\"\\n\\n\\n\")\n",
    "print(\"************************************************************************************************\")    \n",
    "\n",
    "ls = [{'car':'BMW', 'bike':'Honda'},{'fruit':'orange'}]\n",
    "\n",
    "print(\"Original list : \\n\",ls)\n",
    "dict = {'language':'Python','Framework':'Django'}\n",
    "ls.append(dict)\n",
    "print(\"List after appending : \\n\",ls)\n",
    "\n",
    "    "
   ]
  },
  {
   "cell_type": "markdown",
   "id": "d1f1bf26",
   "metadata": {},
   "source": [
    "#### 4->What are operators? How many types of operators are there in python? "
   ]
  },
  {
   "cell_type": "markdown",
   "id": "c010e2ac",
   "metadata": {},
   "source": [
    "### Operators are symbols or special characters that perform operations on one or more operands (values or variables). Operators allow you to manipulate data and perform computations in your code.\n",
    "\n",
    "Mainly there are 7 types of operators in python\n",
    "<ul>\n",
    "<li>Arithmetic Operators</li>\n",
    "<li>Assignment Operators</li>\n",
    "<li>Comparison Operators</li>\n",
    "<li>Logical Operators</li>\n",
    "<li>Bitwise Operators</li>\n",
    "<li>Membership Operators</li>\n",
    "<li>Identity Operators</li>\n",
    "</ul>    "
   ]
  }
 ],
 "metadata": {
  "kernelspec": {
   "display_name": "Python 3 (ipykernel)",
   "language": "python",
   "name": "python3"
  },
  "language_info": {
   "codemirror_mode": {
    "name": "ipython",
    "version": 3
   },
   "file_extension": ".py",
   "mimetype": "text/x-python",
   "name": "python",
   "nbconvert_exporter": "python",
   "pygments_lexer": "ipython3",
   "version": "3.10.9"
  }
 },
 "nbformat": 4,
 "nbformat_minor": 5
}
